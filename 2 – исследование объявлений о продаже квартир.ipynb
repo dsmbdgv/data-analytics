{
 "cells": [
  {
   "cell_type": "markdown",
   "metadata": {},
   "source": [
    "<font color='blue'> Привет!) Ты проделал большую работу над проектом. Как всегда мои комментарии будут выделены синим. Пожайлуста, постарайся учесть их в дальнейших проектах и/или доработках.</font>"
   ]
  },
  {
   "cell_type": "markdown",
   "metadata": {},
   "source": [
    "# Исследование объявлений о продаже квартир\n",
    "\n",
    "В вашем распоряжении данные сервиса Яндекс.Недвижимость — архив объявлений о продаже квартир в Санкт-Петербурге и соседних населённых пунктов за несколько лет. Нужно научиться определять рыночную стоимость объектов недвижимости. Ваша задача — установить параметры. Это позволит построить автоматизированную систему: она отследит аномалии и мошенническую деятельность. \n",
    "\n",
    "По каждой квартире на продажу доступны два вида данных. Первые вписаны пользователем, вторые — получены автоматически на основе картографических данных. Например, расстояние до центра, аэропорта, ближайшего парка и водоёма. "
   ]
  },
  {
   "cell_type": "markdown",
   "metadata": {},
   "source": [
    "### Шаг 1. Откройте файл с данными и изучите общую информацию. "
   ]
  },
  {
   "cell_type": "code",
   "execution_count": 1,
   "metadata": {
    "scrolled": true
   },
   "outputs": [
    {
     "data": {
      "text/html": [
       "<div>\n",
       "<style scoped>\n",
       "    .dataframe tbody tr th:only-of-type {\n",
       "        vertical-align: middle;\n",
       "    }\n",
       "\n",
       "    .dataframe tbody tr th {\n",
       "        vertical-align: top;\n",
       "    }\n",
       "\n",
       "    .dataframe thead th {\n",
       "        text-align: right;\n",
       "    }\n",
       "</style>\n",
       "<table border=\"1\" class=\"dataframe\">\n",
       "  <thead>\n",
       "    <tr style=\"text-align: right;\">\n",
       "      <th></th>\n",
       "      <th>total_images</th>\n",
       "      <th>last_price</th>\n",
       "      <th>total_area</th>\n",
       "      <th>first_day_exposition</th>\n",
       "      <th>rooms</th>\n",
       "      <th>ceiling_height</th>\n",
       "      <th>floors_total</th>\n",
       "      <th>living_area</th>\n",
       "      <th>floor</th>\n",
       "      <th>is_apartment</th>\n",
       "      <th>...</th>\n",
       "      <th>kitchen_area</th>\n",
       "      <th>balcony</th>\n",
       "      <th>locality_name</th>\n",
       "      <th>airports_nearest</th>\n",
       "      <th>cityCenters_nearest</th>\n",
       "      <th>parks_around3000</th>\n",
       "      <th>parks_nearest</th>\n",
       "      <th>ponds_around3000</th>\n",
       "      <th>ponds_nearest</th>\n",
       "      <th>days_exposition</th>\n",
       "    </tr>\n",
       "  </thead>\n",
       "  <tbody>\n",
       "    <tr>\n",
       "      <td>0</td>\n",
       "      <td>20</td>\n",
       "      <td>13000000.0</td>\n",
       "      <td>108.0</td>\n",
       "      <td>2019-03-07T00:00:00</td>\n",
       "      <td>3</td>\n",
       "      <td>2.70</td>\n",
       "      <td>16.0</td>\n",
       "      <td>51.0</td>\n",
       "      <td>8</td>\n",
       "      <td>NaN</td>\n",
       "      <td>...</td>\n",
       "      <td>25.0</td>\n",
       "      <td>NaN</td>\n",
       "      <td>Санкт-Петербург</td>\n",
       "      <td>18863.0</td>\n",
       "      <td>16028.0</td>\n",
       "      <td>1.0</td>\n",
       "      <td>482.0</td>\n",
       "      <td>2.0</td>\n",
       "      <td>755.0</td>\n",
       "      <td>NaN</td>\n",
       "    </tr>\n",
       "    <tr>\n",
       "      <td>1</td>\n",
       "      <td>7</td>\n",
       "      <td>3350000.0</td>\n",
       "      <td>40.4</td>\n",
       "      <td>2018-12-04T00:00:00</td>\n",
       "      <td>1</td>\n",
       "      <td>NaN</td>\n",
       "      <td>11.0</td>\n",
       "      <td>18.6</td>\n",
       "      <td>1</td>\n",
       "      <td>NaN</td>\n",
       "      <td>...</td>\n",
       "      <td>11.0</td>\n",
       "      <td>2.0</td>\n",
       "      <td>посёлок Шушары</td>\n",
       "      <td>12817.0</td>\n",
       "      <td>18603.0</td>\n",
       "      <td>0.0</td>\n",
       "      <td>NaN</td>\n",
       "      <td>0.0</td>\n",
       "      <td>NaN</td>\n",
       "      <td>81.0</td>\n",
       "    </tr>\n",
       "    <tr>\n",
       "      <td>2</td>\n",
       "      <td>10</td>\n",
       "      <td>5196000.0</td>\n",
       "      <td>56.0</td>\n",
       "      <td>2015-08-20T00:00:00</td>\n",
       "      <td>2</td>\n",
       "      <td>NaN</td>\n",
       "      <td>5.0</td>\n",
       "      <td>34.3</td>\n",
       "      <td>4</td>\n",
       "      <td>NaN</td>\n",
       "      <td>...</td>\n",
       "      <td>8.3</td>\n",
       "      <td>0.0</td>\n",
       "      <td>Санкт-Петербург</td>\n",
       "      <td>21741.0</td>\n",
       "      <td>13933.0</td>\n",
       "      <td>1.0</td>\n",
       "      <td>90.0</td>\n",
       "      <td>2.0</td>\n",
       "      <td>574.0</td>\n",
       "      <td>558.0</td>\n",
       "    </tr>\n",
       "    <tr>\n",
       "      <td>3</td>\n",
       "      <td>0</td>\n",
       "      <td>64900000.0</td>\n",
       "      <td>159.0</td>\n",
       "      <td>2015-07-24T00:00:00</td>\n",
       "      <td>3</td>\n",
       "      <td>NaN</td>\n",
       "      <td>14.0</td>\n",
       "      <td>NaN</td>\n",
       "      <td>9</td>\n",
       "      <td>NaN</td>\n",
       "      <td>...</td>\n",
       "      <td>NaN</td>\n",
       "      <td>0.0</td>\n",
       "      <td>Санкт-Петербург</td>\n",
       "      <td>28098.0</td>\n",
       "      <td>6800.0</td>\n",
       "      <td>2.0</td>\n",
       "      <td>84.0</td>\n",
       "      <td>3.0</td>\n",
       "      <td>234.0</td>\n",
       "      <td>424.0</td>\n",
       "    </tr>\n",
       "    <tr>\n",
       "      <td>4</td>\n",
       "      <td>2</td>\n",
       "      <td>10000000.0</td>\n",
       "      <td>100.0</td>\n",
       "      <td>2018-06-19T00:00:00</td>\n",
       "      <td>2</td>\n",
       "      <td>3.03</td>\n",
       "      <td>14.0</td>\n",
       "      <td>32.0</td>\n",
       "      <td>13</td>\n",
       "      <td>NaN</td>\n",
       "      <td>...</td>\n",
       "      <td>41.0</td>\n",
       "      <td>NaN</td>\n",
       "      <td>Санкт-Петербург</td>\n",
       "      <td>31856.0</td>\n",
       "      <td>8098.0</td>\n",
       "      <td>2.0</td>\n",
       "      <td>112.0</td>\n",
       "      <td>1.0</td>\n",
       "      <td>48.0</td>\n",
       "      <td>121.0</td>\n",
       "    </tr>\n",
       "  </tbody>\n",
       "</table>\n",
       "<p>5 rows × 22 columns</p>\n",
       "</div>"
      ],
      "text/plain": [
       "   total_images  last_price  total_area first_day_exposition  rooms  \\\n",
       "0            20  13000000.0       108.0  2019-03-07T00:00:00      3   \n",
       "1             7   3350000.0        40.4  2018-12-04T00:00:00      1   \n",
       "2            10   5196000.0        56.0  2015-08-20T00:00:00      2   \n",
       "3             0  64900000.0       159.0  2015-07-24T00:00:00      3   \n",
       "4             2  10000000.0       100.0  2018-06-19T00:00:00      2   \n",
       "\n",
       "   ceiling_height  floors_total  living_area  floor is_apartment  ...  \\\n",
       "0            2.70          16.0         51.0      8          NaN  ...   \n",
       "1             NaN          11.0         18.6      1          NaN  ...   \n",
       "2             NaN           5.0         34.3      4          NaN  ...   \n",
       "3             NaN          14.0          NaN      9          NaN  ...   \n",
       "4            3.03          14.0         32.0     13          NaN  ...   \n",
       "\n",
       "   kitchen_area  balcony    locality_name  airports_nearest  \\\n",
       "0          25.0      NaN  Санкт-Петербург           18863.0   \n",
       "1          11.0      2.0   посёлок Шушары           12817.0   \n",
       "2           8.3      0.0  Санкт-Петербург           21741.0   \n",
       "3           NaN      0.0  Санкт-Петербург           28098.0   \n",
       "4          41.0      NaN  Санкт-Петербург           31856.0   \n",
       "\n",
       "  cityCenters_nearest  parks_around3000  parks_nearest  ponds_around3000  \\\n",
       "0             16028.0               1.0          482.0               2.0   \n",
       "1             18603.0               0.0            NaN               0.0   \n",
       "2             13933.0               1.0           90.0               2.0   \n",
       "3              6800.0               2.0           84.0               3.0   \n",
       "4              8098.0               2.0          112.0               1.0   \n",
       "\n",
       "   ponds_nearest  days_exposition  \n",
       "0          755.0              NaN  \n",
       "1            NaN             81.0  \n",
       "2          574.0            558.0  \n",
       "3          234.0            424.0  \n",
       "4           48.0            121.0  \n",
       "\n",
       "[5 rows x 22 columns]"
      ]
     },
     "execution_count": 1,
     "metadata": {},
     "output_type": "execute_result"
    }
   ],
   "source": [
    "import matplotlib.pyplot as plt \n",
    "import pandas as pd\n",
    "df = pd.read_csv('/datasets/real_estate_data.csv', sep='\\t')\n",
    "df.head()"
   ]
  },
  {
   "cell_type": "code",
   "execution_count": 2,
   "metadata": {},
   "outputs": [
    {
     "name": "stdout",
     "output_type": "stream",
     "text": [
      "<class 'pandas.core.frame.DataFrame'>\n",
      "RangeIndex: 23699 entries, 0 to 23698\n",
      "Data columns (total 22 columns):\n",
      "total_images            23699 non-null int64\n",
      "last_price              23699 non-null float64\n",
      "total_area              23699 non-null float64\n",
      "first_day_exposition    23699 non-null object\n",
      "rooms                   23699 non-null int64\n",
      "ceiling_height          14504 non-null float64\n",
      "floors_total            23613 non-null float64\n",
      "living_area             21796 non-null float64\n",
      "floor                   23699 non-null int64\n",
      "is_apartment            2775 non-null object\n",
      "studio                  23699 non-null bool\n",
      "open_plan               23699 non-null bool\n",
      "kitchen_area            21421 non-null float64\n",
      "balcony                 12180 non-null float64\n",
      "locality_name           23650 non-null object\n",
      "airports_nearest        18157 non-null float64\n",
      "cityCenters_nearest     18180 non-null float64\n",
      "parks_around3000        18181 non-null float64\n",
      "parks_nearest           8079 non-null float64\n",
      "ponds_around3000        18181 non-null float64\n",
      "ponds_nearest           9110 non-null float64\n",
      "days_exposition         20518 non-null float64\n",
      "dtypes: bool(2), float64(14), int64(3), object(3)\n",
      "memory usage: 3.7+ MB\n"
     ]
    }
   ],
   "source": [
    "df.info()"
   ]
  },
  {
   "cell_type": "markdown",
   "metadata": {},
   "source": [
    "#### Выводы"
   ]
  },
  {
   "cell_type": "markdown",
   "metadata": {},
   "source": [
    "Всего в таблице 22 столбца, в каждом из которых содержится следующая информация:\n",
    "\n",
    "1. airports_nearest — расстояние до ближайшего аэропорта в метрах (м)\n",
    "2. balcony — число балконов\n",
    "3. ceiling_height — высота потолков (м)\n",
    "4. cityCenters_nearest — расстояние до центра города (м)\n",
    "5. days_exposition — сколько дней было размещено объявление (от публикации до снятия)\n",
    "6. first_day_exposition — дата публикации\n",
    "7. floor — этаж\n",
    "8. floors_total — всего этажей в доме\n",
    "9. is_apartment — апартаменты (булев тип)\n",
    "10. kitchen_area — площадь кухни в квадратных метрах (м²)\n",
    "11. last_price — цена на момент снятия с публикации\n",
    "12. living_area — жилая площадь в квадратных метрах(м²)\n",
    "13. locality_name — название населённого пункта\n",
    "14. open_plan — свободная планировка (булев тип)\n",
    "15. parks_around3000 — число парков в радиусе 3 км\n",
    "16. parks_nearest — расстояние до ближайшего парка (м)\n",
    "17. ponds_around3000 — число водоёмов в радиусе 3 км\n",
    "18. ponds_nearest — расстояние до ближайшего водоёма (м)\n",
    "19. rooms — число комнат\n",
    "20. studio — квартира-студия (булев тип)\n",
    "21. total_area — площадь квартиры в квадратных метрах (м²)\n",
    "22. total_images — число фотографий квартиры в объявлении\n",
    "\n",
    "Каждая строка таблицы является описанием жилого (проданного/помещенного в архив) объекта по 22-ум параметрам. Количество значений в столбцах различается – это говорит о том, что в данных есть пропущенные значения."
   ]
  },
  {
   "cell_type": "markdown",
   "metadata": {},
   "source": [
    "<font color='blue'> Хорошо. Только здесь лучше подробнее расписать план на предобработку: где есть пропуски, как с ними работать, где надо заменить тип данных?</font>"
   ]
  },
  {
   "cell_type": "markdown",
   "metadata": {},
   "source": [
    "### Шаг 2. Предобработка данных"
   ]
  },
  {
   "cell_type": "markdown",
   "metadata": {},
   "source": [
    "#### Пропущенные значения"
   ]
  },
  {
   "cell_type": "markdown",
   "metadata": {},
   "source": [
    "Всего в таблице 23699 записи. Столбцы в которых есть пропущенные значение:"
   ]
  },
  {
   "cell_type": "code",
   "execution_count": 3,
   "metadata": {},
   "outputs": [],
   "source": [
    "#заменим пропущеные значения балконов на 0 – скорее всего люди оставили их пустыми, потому что балкона просто нет\n",
    "df['balcony'] = df['balcony'].fillna(0)"
   ]
  },
  {
   "cell_type": "code",
   "execution_count": 4,
   "metadata": {},
   "outputs": [],
   "source": [
    "#заменим пропущенные значения высоты потолков на медианное значение\n",
    "median_height = df['ceiling_height'].median()\n",
    "df['ceiling_height'] = df['ceiling_height'].fillna(median_height)"
   ]
  },
  {
   "cell_type": "code",
   "execution_count": 5,
   "metadata": {},
   "outputs": [],
   "source": [
    "#пустые этажи удалим, потому что:\n",
    "#а) медиана и среднее тут не валидны для расчета и замены пустых значений \n",
    "#б) количество пропусков не значительно – меньше 0.3%\n",
    "df.dropna(subset=['floors_total'], inplace=True)"
   ]
  },
  {
   "cell_type": "code",
   "execution_count": 6,
   "metadata": {},
   "outputs": [],
   "source": [
    "# заполним пропуски в столбцах living_area (жилая площадь) и kitchen_area (площадь кухни)\n",
    "#1. для тех мест где living_area ИЛИ kitchen_area не пустые, посчитаем living_area или kitchen_area\n",
    "# через разницу от total_area\n",
    "df.loc[df['living_area'].isnull() & df['kitchen_area'] > 0, 'living_area'] = df['living_area'].fillna(df['total_area'] - df['kitchen_area'])\n",
    "df.loc[df['kitchen_area'].isnull() & df['living_area'] > 0, 'kitchen_area'] = df['kitchen_area'].fillna(df['total_area'] - df['living_area'])\n",
    "\n",
    "#2. для оставшихся кейсов, где living_area и kitchen_area пустые – посчитаем медианные в зависимости \n",
    "#от количества комнат\n",
    "rooms = df['rooms'].unique()\n",
    "for i in rooms:\n",
    "    median_living = df.loc[df['rooms']==i, 'living_area'].median()\n",
    "    df.loc[(df['rooms']==i) & (df['living_area'].isnull()), 'living_area'] = df['living_area'].fillna(median_living)\n",
    "    median_kitchen = df.loc[df['rooms']==i, 'kitchen_area'].median()\n",
    "    df.loc[ (df['rooms']==i) & (df['kitchen_area'].isnull()), 'kitchen_area'] = df['kitchen_area'].fillna(median_kitchen)"
   ]
  },
  {
   "cell_type": "code",
   "execution_count": 7,
   "metadata": {},
   "outputs": [],
   "source": [
    "#в названиях населенных пунктов заменим пустые значения на \"неизвестный населенный пункт\"\n",
    "df['locality_name'] = df['locality_name'].fillna('неизвестный населенный пункт')"
   ]
  },
  {
   "cell_type": "code",
   "execution_count": 8,
   "metadata": {},
   "outputs": [],
   "source": [
    "#в столбце со средним расстоянием до центра заменим пустые значения на медианные для данного населенного пункта\n",
    "df['locality_name'] = df['locality_name'].str.lower()"
   ]
  },
  {
   "cell_type": "code",
   "execution_count": 9,
   "metadata": {},
   "outputs": [],
   "source": [
    "#заменим тип данных в столбце с датой выставления объявления\n",
    "df['first_day_exposition'] = pd.to_datetime(df['first_day_exposition'], format='%Y-%m-%dT%H:%M')"
   ]
  },
  {
   "cell_type": "code",
   "execution_count": 10,
   "metadata": {},
   "outputs": [],
   "source": [
    "#приведем значения к целочисленным\n",
    "df['last_price'] = df['last_price'].astype('int')\n",
    "df['total_area'] = df['total_area'].astype('int')\n",
    "df['floors_total'] = df['floors_total'].astype('int')"
   ]
  },
  {
   "cell_type": "code",
   "execution_count": 11,
   "metadata": {},
   "outputs": [],
   "source": [
    "#будем считать что если, в столбце is_apartment пропущены значения, то это значит что квартира НЕ апартаменты\n",
    "df['is_apartment'] = df['is_apartment'].fillna(False)\n",
    "df['is_apartment'] = df['is_apartment'].astype('bool')"
   ]
  },
  {
   "cell_type": "code",
   "execution_count": 12,
   "metadata": {},
   "outputs": [
    {
     "data": {
      "text/plain": [
       "338"
      ]
     },
     "execution_count": 12,
     "metadata": {},
     "output_type": "execute_result"
    }
   ],
   "source": [
    "#разбираемся с расстоянием до центра\n",
    "city_to_center_info = df.pivot_table(index='locality_name', values='cityCenters_nearest', aggfunc='sum')\n",
    "no_data_to_city_center = city_to_center_info.query('cityCenters_nearest == 0')\n",
    "len(no_data_to_city_center) \n",
    "#в 338 из 365 населенных пунктах нет информации о расстоянии до центра "
   ]
  },
  {
   "cell_type": "code",
   "execution_count": 13,
   "metadata": {},
   "outputs": [],
   "source": [
    "#пометим города с отсутствующей инфой о расстоянии до центра минус единицей\n",
    "#вероятно это мелкие деревни и поселки\n",
    "df['cityCenters_nearest'] = df['cityCenters_nearest'].fillna(-1)"
   ]
  },
  {
   "cell_type": "code",
   "execution_count": 14,
   "metadata": {},
   "outputs": [
    {
     "data": {
      "text/plain": [
       "3172"
      ]
     },
     "execution_count": 14,
     "metadata": {},
     "output_type": "execute_result"
    }
   ],
   "source": [
    "len(df.query('days_exposition.isnull()'))\n",
    "#3172 вероятно сделка по этим квартирам не закрыта"
   ]
  },
  {
   "cell_type": "code",
   "execution_count": 15,
   "metadata": {},
   "outputs": [],
   "source": [
    "#исключим их, и будем иметь в виду, что будущий анализ будет вестить только по закрытым сделкам\n",
    "df.dropna(subset=['days_exposition'], inplace=True)"
   ]
  },
  {
   "cell_type": "code",
   "execution_count": 16,
   "metadata": {},
   "outputs": [],
   "source": [
    "#поля airports_nearest, parks_around3000, ponds_nearest, parks_nearest, ponds_around3000   \n",
    "# эти поля можно удалить, либо заменить пропущенные в них значения на 0, т.к для будущего анализа они не критичны\n",
    "df['airports_nearest'] = df['airports_nearest'].fillna(0)\n",
    "df['parks_around3000'] = df['parks_around3000'].fillna(0)\n",
    "df['ponds_nearest'] = df['ponds_nearest'].fillna(0)\n",
    "df['parks_nearest'] = df['parks_nearest'].fillna(0)\n",
    "df['ponds_around3000'] = df['ponds_around3000'].fillna(0)"
   ]
  },
  {
   "cell_type": "code",
   "execution_count": 18,
   "metadata": {},
   "outputs": [
    {
     "name": "stdout",
     "output_type": "stream",
     "text": [
      "<class 'pandas.core.frame.DataFrame'>\n",
      "Int64Index: 20441 entries, 1 to 23697\n",
      "Data columns (total 22 columns):\n",
      "total_images            20441 non-null int64\n",
      "last_price              20441 non-null int64\n",
      "total_area              20441 non-null int64\n",
      "first_day_exposition    20441 non-null datetime64[ns]\n",
      "rooms                   20441 non-null int64\n",
      "ceiling_height          20441 non-null float64\n",
      "floors_total            20441 non-null int64\n",
      "living_area             20441 non-null float64\n",
      "floor                   20441 non-null int64\n",
      "is_apartment            20441 non-null bool\n",
      "studio                  20441 non-null bool\n",
      "open_plan               20441 non-null bool\n",
      "kitchen_area            20441 non-null float64\n",
      "balcony                 20441 non-null float64\n",
      "locality_name           20441 non-null object\n",
      "airports_nearest        20441 non-null float64\n",
      "cityCenters_nearest     20441 non-null float64\n",
      "parks_around3000        20441 non-null float64\n",
      "parks_nearest           20441 non-null float64\n",
      "ponds_around3000        20441 non-null float64\n",
      "ponds_nearest           20441 non-null float64\n",
      "days_exposition         20441 non-null float64\n",
      "dtypes: bool(3), datetime64[ns](1), float64(11), int64(6), object(1)\n",
      "memory usage: 3.2+ MB\n"
     ]
    }
   ],
   "source": [
    "df.info()"
   ]
  },
  {
   "cell_type": "markdown",
   "metadata": {},
   "source": [
    "Теперь массив стал более опрятным и с ним можно работать дальше."
   ]
  },
  {
   "cell_type": "markdown",
   "metadata": {},
   "source": [
    "<font color='blue'> Хорошо, пропуски обработаны хорошо.</font>"
   ]
  },
  {
   "cell_type": "markdown",
   "metadata": {},
   "source": [
    "### Шаг 3. Посчитайте и добавьте в таблицу"
   ]
  },
  {
   "cell_type": "code",
   "execution_count": 19,
   "metadata": {},
   "outputs": [],
   "source": [
    "#цена квадратного метра\n",
    "df['metre_price'] = df['last_price']/df['total_area'].astype('int')"
   ]
  },
  {
   "cell_type": "code",
   "execution_count": 20,
   "metadata": {},
   "outputs": [],
   "source": [
    "#день недели, месяц и год публикации объявления\n",
    "df['exposition_weekday'] = df['first_day_exposition'].dt.weekday\n",
    "df['exposition_month'] = df['first_day_exposition'].dt.month\n",
    "df['exposition_year'] = df['first_day_exposition'].dt.year"
   ]
  },
  {
   "cell_type": "code",
   "execution_count": 22,
   "metadata": {},
   "outputs": [],
   "source": [
    "#добавим цену в миллионах, для упрощения восприятния \n",
    "df['last_price_mln'] = df['last_price']/10**6"
   ]
  },
  {
   "cell_type": "code",
   "execution_count": 23,
   "metadata": {},
   "outputs": [],
   "source": [
    "#функция для определения этажа квартиры\n",
    "def floor_type(row):\n",
    "    if row['floor']==1:\n",
    "        return 'первый'\n",
    "    elif row['floor']/row['floors_total']==1:\n",
    "        return 'последний'\n",
    "    return 'другой'"
   ]
  },
  {
   "cell_type": "code",
   "execution_count": 24,
   "metadata": {},
   "outputs": [],
   "source": [
    "#добавим столбцец с указанием этажа\n",
    "df['floor_type'] = df.apply(floor_type, axis=1)"
   ]
  },
  {
   "cell_type": "code",
   "execution_count": 27,
   "metadata": {},
   "outputs": [],
   "source": [
    "#посчитаем соотношение жилой и общей площади\n",
    "df['living_to_total_area'] = df['living_area']/df['total_area']"
   ]
  },
  {
   "cell_type": "code",
   "execution_count": 28,
   "metadata": {},
   "outputs": [],
   "source": [
    "#посчитаем cоотношение площади кухни и общей площади\n",
    "df['kitchen_to_total_area'] = df['kitchen_area']/df['total_area']"
   ]
  },
  {
   "cell_type": "markdown",
   "metadata": {},
   "source": [
    "<font color='blue'> Отлично, данные готовы к работе. Только в конце можно вывести табличку head(), чтоб посмотреть, что получилось в итоге предобработке.</font>"
   ]
  },
  {
   "cell_type": "markdown",
   "metadata": {},
   "source": [
    "### Шаг 4. Проведите исследовательский анализ данных и выполните инструкции:"
   ]
  },
  {
   "cell_type": "markdown",
   "metadata": {},
   "source": [
    "#### Изучим параметры: площадь, цена, число комнат, высота потолков"
   ]
  },
  {
   "cell_type": "code",
   "execution_count": 30,
   "metadata": {},
   "outputs": [
    {
     "data": {
      "text/plain": [
       "(0, 125)"
      ]
     },
     "execution_count": 30,
     "metadata": {},
     "output_type": "execute_result"
    },
    {
     "data": {
      "image/png": "[encoded data removed]",
      "text/plain": [
       "<Figure size 432x288 with 1 Axes>"
      ]
     },
     "metadata": {
      "needs_background": "light"
     },
     "output_type": "display_data"
    }
   ],
   "source": [
    "#построим ящик с усами для площади квартиры\n",
    "total_area = pd.DataFrame(data=df['total_area'])\n",
    "total_area.boxplot()\n",
    "plt.ylim(0, 125)"
   ]
  },
  {
   "cell_type": "code",
   "execution_count": 31,
   "metadata": {},
   "outputs": [
    {
     "data": {
      "text/plain": [
       "<matplotlib.axes._subplots.AxesSubplot at 0x7f67db68a668>"
      ]
     },
     "execution_count": 31,
     "metadata": {},
     "output_type": "execute_result"
    },
    {
     "data": {
      "image/png": "[encoded data removed]",
      "text/plain": [
       "<Figure size 720x360 with 1 Axes>"
      ]
     },
     "metadata": {
      "needs_background": "light"
     },
     "output_type": "display_data"
    }
   ],
   "source": [
    "#построим гистограмму для площади квартиры\n",
    "df['total_area'].plot(title='Распределение площадей квартир', kind='hist', bins=150, range=(0,300),figsize=(10,5))"
   ]
  },
  {
   "cell_type": "code",
   "execution_count": 32,
   "metadata": {},
   "outputs": [
    {
     "data": {
      "text/plain": [
       "count    20441.000000\n",
       "mean        58.635194\n",
       "std         34.073863\n",
       "min         12.000000\n",
       "25%         39.000000\n",
       "50%         50.000000\n",
       "75%         67.000000\n",
       "max        900.000000\n",
       "Name: total_area, dtype: float64"
      ]
     },
     "execution_count": 32,
     "metadata": {},
     "output_type": "execute_result"
    }
   ],
   "source": [
    "#выведем описательную статистику для площади квартиры\n",
    "df['total_area'].describe()"
   ]
  },
  {
   "cell_type": "code",
   "execution_count": 33,
   "metadata": {},
   "outputs": [
    {
     "data": {
      "text/plain": [
       "(-1, 15)"
      ]
     },
     "execution_count": 33,
     "metadata": {},
     "output_type": "execute_result"
    },
    {
     "data": {
      "image/png": "[encoded data removed]",
      "text/plain": [
       "<Figure size 432x288 with 1 Axes>"
      ]
     },
     "metadata": {
      "needs_background": "light"
     },
     "output_type": "display_data"
    }
   ],
   "source": [
    "#построим ящик с усами для цены\n",
    "last_price = pd.DataFrame(data=df['last_price_mln'])\n",
    "last_price.boxplot()\n",
    "plt.ylim(-1,15)"
   ]
  },
  {
   "cell_type": "code",
   "execution_count": 34,
   "metadata": {},
   "outputs": [
    {
     "data": {
      "text/plain": [
       "<matplotlib.axes._subplots.AxesSubplot at 0x7f67db40fd30>"
      ]
     },
     "execution_count": 34,
     "metadata": {},
     "output_type": "execute_result"
    },
    {
     "data": {
      "image/png": "[encoded data removed]",
      "text/plain": [
       "<Figure size 720x360 with 1 Axes>"
      ]
     },
     "metadata": {
      "needs_background": "light"
     },
     "output_type": "display_data"
    }
   ],
   "source": [
    "#построим гистограмму для цены\n",
    "df['last_price_mln'].plot(title='Распределение цен на квартиры', kind='hist',bins=150, range=(0,60), figsize=(10,5))"
   ]
  },
  {
   "cell_type": "code",
   "execution_count": 36,
   "metadata": {
    "scrolled": true
   },
   "outputs": [
    {
     "data": {
      "text/plain": [
       "count    20441.000000\n",
       "mean         6.265166\n",
       "std         10.878209\n",
       "min          0.012190\n",
       "25%          3.400000\n",
       "50%          4.500000\n",
       "75%          6.500000\n",
       "max        763.000000\n",
       "Name: last_price_mln, dtype: float64"
      ]
     },
     "execution_count": 36,
     "metadata": {},
     "output_type": "execute_result"
    }
   ],
   "source": [
    "#выведем описательную статистику для цены\n",
    "df['last_price_mln'].describe()"
   ]
  },
  {
   "cell_type": "code",
   "execution_count": 37,
   "metadata": {},
   "outputs": [
    {
     "data": {
      "text/plain": [
       "(0, 12)"
      ]
     },
     "execution_count": 37,
     "metadata": {},
     "output_type": "execute_result"
    },
    {
     "data": {
      "image/png": "[encoded data removed]",
      "text/plain": [
       "<Figure size 432x288 with 1 Axes>"
      ]
     },
     "metadata": {
      "needs_background": "light"
     },
     "output_type": "display_data"
    }
   ],
   "source": [
    "#построим ящик с усами для комнат\n",
    "rooms = pd.DataFrame(data=df['rooms'])\n",
    "rooms.boxplot()\n",
    "plt.ylim(0,12)"
   ]
  },
  {
   "cell_type": "code",
   "execution_count": 40,
   "metadata": {},
   "outputs": [
    {
     "data": {
      "text/plain": [
       "<matplotlib.axes._subplots.AxesSubplot at 0x7f67d9055128>"
      ]
     },
     "execution_count": 40,
     "metadata": {},
     "output_type": "execute_result"
    },
    {
     "data": {
      "image/png": "[encoded data removed]",
      "text/plain": [
       "<Figure size 720x360 with 1 Axes>"
      ]
     },
     "metadata": {
      "needs_background": "light"
     },
     "output_type": "display_data"
    }
   ],
   "source": [
    "#построим гистограмму для комнат\n",
    "df['rooms'].plot(title='Распределение количества комнат', kind='hist', bins=20, range=(0,10), figsize=(10,5))"
   ]
  },
  {
   "cell_type": "code",
   "execution_count": 41,
   "metadata": {},
   "outputs": [
    {
     "data": {
      "text/plain": [
       "count    20441.000000\n",
       "mean         2.024999\n",
       "std          1.055000\n",
       "min          0.000000\n",
       "25%          1.000000\n",
       "50%          2.000000\n",
       "75%          3.000000\n",
       "max         19.000000\n",
       "Name: rooms, dtype: float64"
      ]
     },
     "execution_count": 41,
     "metadata": {},
     "output_type": "execute_result"
    }
   ],
   "source": [
    "#выведем описательную статистику для комнат\n",
    "df['rooms'].describe()"
   ]
  },
  {
   "cell_type": "code",
   "execution_count": 42,
   "metadata": {},
   "outputs": [
    {
     "data": {
      "text/plain": [
       "(1.5, 3.5)"
      ]
     },
     "execution_count": 42,
     "metadata": {},
     "output_type": "execute_result"
    },
    {
     "data": {
      "image/png": "[encoded data removed]",
      "text/plain": [
       "<Figure size 432x288 with 1 Axes>"
      ]
     },
     "metadata": {
      "needs_background": "light"
     },
     "output_type": "display_data"
    }
   ],
   "source": [
    "#построим ящик с усами для высоты потолков\n",
    "ceilings = pd.DataFrame(data=df['ceiling_height'])\n",
    "ceilings.boxplot()\n",
    "plt.ylim(1.5, 3.5)"
   ]
  },
  {
   "cell_type": "code",
   "execution_count": 45,
   "metadata": {},
   "outputs": [
    {
     "data": {
      "text/plain": [
       "<matplotlib.axes._subplots.AxesSubplot at 0x7f67db47cf60>"
      ]
     },
     "execution_count": 45,
     "metadata": {},
     "output_type": "execute_result"
    },
    {
     "data": {
      "image/png": "[encoded data removed]",
      "text/plain": [
       "<Figure size 720x360 with 1 Axes>"
      ]
     },
     "metadata": {
      "needs_background": "light"
     },
     "output_type": "display_data"
    }
   ],
   "source": [
    "#построим гистограмму для высоты потолков\n",
    "df['ceiling_height'].plot(title='Распределение высоты потолков', kind='hist', bins=50, range=(2, 4.5), figsize=(10,5))"
   ]
  },
  {
   "cell_type": "code",
   "execution_count": 46,
   "metadata": {},
   "outputs": [
    {
     "data": {
      "text/plain": [
       "count    20441.000000\n",
       "mean         2.715883\n",
       "std          0.971916\n",
       "min          1.000000\n",
       "25%          2.600000\n",
       "50%          2.650000\n",
       "75%          2.700000\n",
       "max        100.000000\n",
       "Name: ceiling_height, dtype: float64"
      ]
     },
     "execution_count": 46,
     "metadata": {},
     "output_type": "execute_result"
    }
   ],
   "source": [
    "#выведем описательную статистику для высоты потолков\n",
    "df['ceiling_height'].describe()"
   ]
  },
  {
   "cell_type": "markdown",
   "metadata": {},
   "source": [
    "##### Вывод 1\n",
    "\n",
    "Средняя площадь квартиры равна 58 кв. метрам, при этом медианное значение меньше и равно 50 кв. метрам. Это вызвано пристуствием в выборке анамально большой квартиры в 900 кв. метров. Вероятно, это замок или много этажный дом или просто выборос. \n",
    "Разброс площади квартир составляет 34 метра в меньшую и большую сторону от медианы. Так, в нижней границе первого квартиля находится маленькая коморка в 12 кв. метров, а в верхней квартире квартиры ближе к 100 кв. метрам.\n",
    "\n",
    "Максимальная цена на квартиру составила 764 млн. возможно это уникальный архитектурный жилой объект. Из-за данного выброса средняя цена на квартиру равна 10.8 млн. рублей. А медианная цена составляет 4.5 миллиона. В рамках первого квартиля цена равна варьируется от 300 тыс до 3.4 млн, а в четвертом квартиле может составлять от 6.5 млн до почти . 16 млн.\n",
    "\n",
    "Больше всего выставленно на продажу 2х комнатных квартир. 3х и 4х комнатные составляют 25% от всех продаваемых квартир. Однушки так же составляют четверть от всех продаж.\n",
    "\n",
    "Средняя высота потолков близка к медианной и равна 2.7 метрам. Минимальная высота потолков составила 1 метр. Возможно это конура, но скорее всего – выброс, как и квартира с потолком в 100 метров. "
   ]
  },
  {
   "cell_type": "markdown",
   "metadata": {},
   "source": [
    "<font color='blue'> Хорошо, все верно.</font>"
   ]
  },
  {
   "cell_type": "markdown",
   "metadata": {},
   "source": [
    "#### Изучим время продажи квартиры. Построим гистограмму."
   ]
  },
  {
   "cell_type": "code",
   "execution_count": 47,
   "metadata": {},
   "outputs": [
    {
     "data": {
      "text/plain": [
       "<matplotlib.axes._subplots.AxesSubplot at 0x7f67d8f6c0f0>"
      ]
     },
     "execution_count": 47,
     "metadata": {},
     "output_type": "execute_result"
    },
    {
     "data": {
      "image/png": "[encoded data removed]",
      "text/plain": [
       "<Figure size 720x360 with 1 Axes>"
      ]
     },
     "metadata": {
      "needs_background": "light"
     },
     "output_type": "display_data"
    }
   ],
   "source": [
    "df['days_exposition'] = df['days_exposition'].astype('int')\n",
    "df['days_exposition'].plot(title='Распределение времени на продажу квартиры, дни', kind='hist', bins=100, range=(0, 1000), figsize=(10,5))"
   ]
  },
  {
   "cell_type": "code",
   "execution_count": 48,
   "metadata": {},
   "outputs": [
    {
     "data": {
      "text/plain": [
       "(-20, 700)"
      ]
     },
     "execution_count": 48,
     "metadata": {},
     "output_type": "execute_result"
    },
    {
     "data": {
      "image/png": "[encoded data removed]",
      "text/plain": [
       "<Figure size 432x288 with 1 Axes>"
      ]
     },
     "metadata": {
      "needs_background": "light"
     },
     "output_type": "display_data"
    }
   ],
   "source": [
    "days_to_sold = pd.DataFrame(data=df['days_exposition'])\n",
    "days_to_sold.boxplot()\n",
    "plt.ylim(-20,700)"
   ]
  },
  {
   "cell_type": "code",
   "execution_count": 50,
   "metadata": {},
   "outputs": [
    {
     "data": {
      "text/plain": [
       "count    20441.000000\n",
       "mean       180.884839\n",
       "std        219.685543\n",
       "min          1.000000\n",
       "25%         45.000000\n",
       "50%         95.000000\n",
       "75%        232.000000\n",
       "max       1580.000000\n",
       "Name: days_exposition, dtype: float64"
      ]
     },
     "execution_count": 50,
     "metadata": {},
     "output_type": "execute_result"
    }
   ],
   "source": [
    "df['days_exposition'].describe()"
   ]
  },
  {
   "cell_type": "markdown",
   "metadata": {},
   "source": [
    "##### Вывод 2\n",
    "\n",
    "Время на продажу квартиры:\n",
    "* Нормальное время продажи квартиры, находится в диапазоне от 1 до 520 дней (судя по ящику с усами)\n",
    "* В среднем квартира продаётся за полгода (180 дней), значение вытянуто из-за больших значений за 4м квартилем;\n",
    "* Медианное значение при этом равно трём месяцам (95 дня)\n",
    "\n",
    "Быстрые и долгие продажи:\n",
    "* Можно считать что продажи прошли очень быстро, если квартира продалась в течение 1.5 месяцев (45 дней – в рамках первого квартиля)\n",
    "* Необычно долгим сроком, можно всё, что находится за рамками нормального распределения от 1.5 до 4.5 лет (570 дней и до 1580 дней)"
   ]
  },
  {
   "cell_type": "markdown",
   "metadata": {},
   "source": [
    "<font color='blue'> Здесь тоже все верно.</font>"
   ]
  },
  {
   "cell_type": "markdown",
   "metadata": {},
   "source": [
    "#### Уберём редкие и выбивающиеся значения"
   ]
  },
  {
   "cell_type": "markdown",
   "metadata": {},
   "source": [
    "##### Вывод 3\n",
    "Оставим в массиве значения, находящиейся в рамках нормального распределения.\n",
    "\n",
    "4 основных ограничения:\n",
    "* площадь квартиры от 12 до 110 кв.м\n",
    "* цена от 0.012 до 11,5 млн.\n",
    "* комант от 1 до 6\n",
    "* высота потолков от 1 до 2.8 метров"
   ]
  },
  {
   "cell_type": "markdown",
   "metadata": {},
   "source": [
    "<font color='blue'> Все верно, аномалии удалили.</font>"
   ]
  },
  {
   "cell_type": "code",
   "execution_count": 51,
   "metadata": {},
   "outputs": [],
   "source": [
    "#создадим новый датафрэйм с нормальными значениями\n",
    "df1 = df.query('12<=total_area<=110 and 0.012<=last_price_mln<=11.5 and 1<=rooms<=6 and 1<ceiling_height<=2.8')"
   ]
  },
  {
   "cell_type": "code",
   "execution_count": 60,
   "metadata": {},
   "outputs": [
    {
     "data": {
      "text/plain": [
       "<matplotlib.axes._subplots.AxesSubplot at 0x7f67d8aa9b38>"
      ]
     },
     "execution_count": 60,
     "metadata": {},
     "output_type": "execute_result"
    },
    {
     "data": {
      "image/png": "[encoded data removed]",
      "text/plain": [
       "<Figure size 720x360 with 1 Axes>"
      ]
     },
     "metadata": {
      "needs_background": "light"
     },
     "output_type": "display_data"
    }
   ],
   "source": [
    "ax = df.plot(kind='hist', y='total_area', histtype='step', range=(0, 500), bins=50, linewidth=5, alpha=0.7, label='было')\n",
    "df1.plot(kind='hist', y='total_area', histtype='step', range=(0, 500), bins=50, linewidth=5, alpha=0.7, label='стало', ax=ax, grid=True, legend=True, title='Изменения в площади квартиры после отсечения выбивающихся значений', figsize=(10,5))"
   ]
  },
  {
   "cell_type": "code",
   "execution_count": 63,
   "metadata": {},
   "outputs": [
    {
     "data": {
      "text/plain": [
       "<matplotlib.axes._subplots.AxesSubplot at 0x7f67d8995630>"
      ]
     },
     "execution_count": 63,
     "metadata": {},
     "output_type": "execute_result"
    },
    {
     "data": {
      "image/png": "[encoded data removed]",
      "text/plain": [
       "<Figure size 720x360 with 1 Axes>"
      ]
     },
     "metadata": {
      "needs_background": "light"
     },
     "output_type": "display_data"
    }
   ],
   "source": [
    "ax = df.plot(kind='hist', y='last_price_mln', histtype='step', range=(0, 80), bins=50, linewidth=5, alpha=0.7, label='было')\n",
    "df1.plot(kind='hist', y='last_price_mln', histtype='step', range=(0, 80), bins=50, linewidth=5, alpha=0.7, label='стало', ax=ax, grid=True, legend=True, title='Изменения в цене квартиры после отсечения выбивающихся значений', figsize=(10,5))\n"
   ]
  },
  {
   "cell_type": "code",
   "execution_count": 66,
   "metadata": {},
   "outputs": [
    {
     "data": {
      "text/plain": [
       "<matplotlib.axes._subplots.AxesSubplot at 0x7f67d898c898>"
      ]
     },
     "execution_count": 66,
     "metadata": {},
     "output_type": "execute_result"
    },
    {
     "data": {
      "image/png": "[encoded data removed]",
      "text/plain": [
       "<Figure size 720x360 with 1 Axes>"
      ]
     },
     "metadata": {
      "needs_background": "light"
     },
     "output_type": "display_data"
    }
   ],
   "source": [
    "ax = df.plot(kind='hist', y='rooms', histtype='step', range=(0, 10), bins=50, linewidth=5, alpha=0.7, label='было')\n",
    "df1.plot(kind='hist', y='rooms', histtype='step', range=(0, 10), bins=50, linewidth=5, alpha=0.7, label='стало', ax=ax, grid=True, legend=True, title='Изменения в количестве комнат после отсечения выбивающихся значений', figsize=(10,5))"
   ]
  },
  {
   "cell_type": "code",
   "execution_count": 67,
   "metadata": {
    "scrolled": false
   },
   "outputs": [
    {
     "data": {
      "text/plain": [
       "<matplotlib.axes._subplots.AxesSubplot at 0x7f67d8879ac8>"
      ]
     },
     "execution_count": 67,
     "metadata": {},
     "output_type": "execute_result"
    },
    {
     "data": {
      "image/png": "[encoded data removed]",
      "text/plain": [
       "<Figure size 720x360 with 1 Axes>"
      ]
     },
     "metadata": {
      "needs_background": "light"
     },
     "output_type": "display_data"
    }
   ],
   "source": [
    "ax = df.plot(kind='hist', y='ceiling_height', histtype='step', range=(0, 10), bins=50, linewidth=5, alpha=0.7, label='было ')\n",
    "df1.plot(kind='hist', y='ceiling_height', histtype='step', range=(0, 10), bins=50, linewidth=5, alpha=0.7, label='стало', ax=ax, grid=True, legend=True, title='Изменения в высоте потолков после отсечения выбивающихся значений', figsize=(10,5))"
   ]
  },
  {
   "cell_type": "markdown",
   "metadata": {},
   "source": [
    "#### Узнаем зависит ли цена от квадратного метра, числа комнат, этажа (первого или последнего), удалённости от центра.\n",
    "    \n",
    "    "
   ]
  },
  {
   "cell_type": "code",
   "execution_count": 69,
   "metadata": {},
   "outputs": [
    {
     "data": {
      "text/plain": [
       "0.6777090656618356"
      ]
     },
     "execution_count": 69,
     "metadata": {},
     "output_type": "execute_result"
    }
   ],
   "source": [
    "#посчитаем коэффициент корреляции между площадью квартиры и стоимостью\n",
    "df1['total_area'].corr(df1['last_price_mln'])"
   ]
  },
  {
   "cell_type": "code",
   "execution_count": 73,
   "metadata": {},
   "outputs": [
    {
     "data": {
      "text/plain": [
       "0.40728439238514463"
      ]
     },
     "execution_count": 73,
     "metadata": {},
     "output_type": "execute_result"
    }
   ],
   "source": [
    "#посчитаем коэффициент корреляции между числом комнат и стоимостью\n",
    "df1['rooms'].corr(df1['last_price_mln'])"
   ]
  },
  {
   "cell_type": "code",
   "execution_count": 74,
   "metadata": {},
   "outputs": [
    {
     "data": {
      "text/plain": [
       "<matplotlib.axes._subplots.AxesSubplot at 0x7f67d88685c0>"
      ]
     },
     "execution_count": 74,
     "metadata": {},
     "output_type": "execute_result"
    },
    {
     "data": {
      "image/png": "[encoded data removed]",
      "text/plain": [
       "<Figure size 432x288 with 1 Axes>"
      ]
     },
     "metadata": {
      "needs_background": "light"
     },
     "output_type": "display_data"
    }
   ],
   "source": [
    "#посмотрим какая есть зависимость этажа квартиры и стоимостью\n",
    "df1.pivot_table(index='floor_type', values='last_price_mln', aggfunc='mean').sort_values(by='last_price_mln').plot(kind='bar')"
   ]
  },
  {
   "cell_type": "code",
   "execution_count": 75,
   "metadata": {},
   "outputs": [
    {
     "data": {
      "text/plain": [
       "0.19232375167743349"
      ]
     },
     "execution_count": 75,
     "metadata": {},
     "output_type": "execute_result"
    }
   ],
   "source": [
    "df1['floor'].corr(df1['last_price_mln'])"
   ]
  },
  {
   "cell_type": "code",
   "execution_count": 76,
   "metadata": {},
   "outputs": [
    {
     "data": {
      "text/plain": [
       "-0.3106268459290132"
      ]
     },
     "execution_count": 76,
     "metadata": {},
     "output_type": "execute_result"
    }
   ],
   "source": [
    "#посчитаем коэффициент корреляции расстояние до центра и стоимостью\n",
    "df1[df1['cityCenters_nearest']!=-1]['cityCenters_nearest'].corr(df1['last_price_mln'])"
   ]
  },
  {
   "cell_type": "markdown",
   "metadata": {},
   "source": [
    "##### Вывод 4\n",
    "Больше всего на стоимость влияет, площадь квартиры, где корреляция равна +0.67. Количество комнат, так же увеличивает стоимость – корреляция равна +0.41. Этаж, как не странно, влияет на стоимость, но не так сильно как первые два фактора (\"какая разница на каком этаже жить, если у тебя большая квартира со многими комнатами\"). Расстояние до центра, при этом, влияет отрицательно на стоимость квартиры – чем дальше, тем дешевле, но опять же до определенного предела. Дальше в анализе мы увидим, что после 5км от центра цена сильно падает и затем выходит на плато. \n"
   ]
  },
  {
   "cell_type": "markdown",
   "metadata": {},
   "source": [
    "<font color='blue'> Хорошо, можно еще дополнить анализ матрицей корреляции или scatter_matrix.</font>"
   ]
  },
  {
   "cell_type": "markdown",
   "metadata": {},
   "source": [
    "#### Изучим зависимость от даты размещения: дня недели, месяца и года. "
   ]
  },
  {
   "cell_type": "code",
   "execution_count": 80,
   "metadata": {},
   "outputs": [
    {
     "data": {
      "text/plain": [
       "<matplotlib.axes._subplots.AxesSubplot at 0x7f67d8689b38>"
      ]
     },
     "execution_count": 80,
     "metadata": {},
     "output_type": "execute_result"
    },
    {
     "data": {
      "image/png": "[encoded data removed]",
      "text/plain": [
       "<Figure size 432x288 with 1 Axes>"
      ]
     },
     "metadata": {
      "needs_background": "light"
     },
     "output_type": "display_data"
    }
   ],
   "source": [
    "# построим график зависимости цены от дня недели продажи\n",
    "df1.pivot_table(index='exposition_weekday', values='last_price_mln').plot()"
   ]
  },
  {
   "cell_type": "code",
   "execution_count": 78,
   "metadata": {},
   "outputs": [
    {
     "data": {
      "text/plain": [
       "<matplotlib.axes._subplots.AxesSubplot at 0x7f67d87d0208>"
      ]
     },
     "execution_count": 78,
     "metadata": {},
     "output_type": "execute_result"
    },
    {
     "data": {
      "image/png": "[encoded data removed]",
      "text/plain": [
       "<Figure size 432x288 with 1 Axes>"
      ]
     },
     "metadata": {
      "needs_background": "light"
     },
     "output_type": "display_data"
    }
   ],
   "source": [
    "# построим график зависимости цены от месяца продажи\n",
    "df1.pivot_table(index='exposition_month', values='last_price_mln').plot()"
   ]
  },
  {
   "cell_type": "code",
   "execution_count": 82,
   "metadata": {},
   "outputs": [
    {
     "data": {
      "text/plain": [
       "<matplotlib.axes._subplots.AxesSubplot at 0x7f67d866b550>"
      ]
     },
     "execution_count": 82,
     "metadata": {},
     "output_type": "execute_result"
    },
    {
     "data": {
      "image/png": "[encoded data removed]",
      "text/plain": [
       "<Figure size 432x288 with 1 Axes>"
      ]
     },
     "metadata": {
      "needs_background": "light"
     },
     "output_type": "display_data"
    }
   ],
   "source": [
    "#построим график зависимости цены от года продажи\n",
    "df1.pivot_table(index='exposition_year', values='last_price_mln').plot()"
   ]
  },
  {
   "cell_type": "markdown",
   "metadata": {},
   "source": [
    "##### Вывод 5\n",
    "\n",
    "Дороже всего продаются квартиры выставленные в первой половине рабочей недели с понедельника и по среду. Дальше цена падает и снова повышается в начале недели.\n",
    "\n",
    "Хуже всего продавать квартиру в середине года – тут наступает стоимостное дно, где цены очень низкие. Вероятно, потому что в начале июня все уезжают отдыхать. В сентября же, когда люди вернулись с отдыха, рынок недвижимости стремительно нагревается и цены взлетают.\n",
    "\n",
    "Начная с 18 года, цены постепенно идут вверх, до этого же, пока страна была в кризисе, 16 и 17 года, цены были максимально низкими. Сейчас самое время покупать и продавать недвижку."
   ]
  },
  {
   "cell_type": "markdown",
   "metadata": {},
   "source": [
    "<font color='blue'> все верно.</font>"
   ]
  },
  {
   "cell_type": "markdown",
   "metadata": {},
   "source": [
    "#### Выберем 10 населённых пунктов с наибольшим числом объявлений"
   ]
  },
  {
   "cell_type": "code",
   "execution_count": 81,
   "metadata": {},
   "outputs": [],
   "source": [
    "top_cities = df1.groupby('locality_name')['total_images'].count().sort_values(ascending=False).head(10)"
   ]
  },
  {
   "cell_type": "markdown",
   "metadata": {},
   "source": [
    "#### Посчитаем среднюю цену квадратного метра в этих населённых пунктах"
   ]
  },
  {
   "cell_type": "code",
   "execution_count": 83,
   "metadata": {},
   "outputs": [
    {
     "data": {
      "text/html": [
       "<div>\n",
       "<style scoped>\n",
       "    .dataframe tbody tr th:only-of-type {\n",
       "        vertical-align: middle;\n",
       "    }\n",
       "\n",
       "    .dataframe tbody tr th {\n",
       "        vertical-align: top;\n",
       "    }\n",
       "\n",
       "    .dataframe thead th {\n",
       "        text-align: right;\n",
       "    }\n",
       "</style>\n",
       "<table border=\"1\" class=\"dataframe\">\n",
       "  <thead>\n",
       "    <tr style=\"text-align: right;\">\n",
       "      <th></th>\n",
       "      <th>metre_price</th>\n",
       "    </tr>\n",
       "    <tr>\n",
       "      <th>locality_name</th>\n",
       "      <th></th>\n",
       "    </tr>\n",
       "  </thead>\n",
       "  <tbody>\n",
       "    <tr>\n",
       "      <td>санкт-петербург</td>\n",
       "      <td>103832.787735</td>\n",
       "    </tr>\n",
       "    <tr>\n",
       "      <td>пушкин</td>\n",
       "      <td>99536.389413</td>\n",
       "    </tr>\n",
       "    <tr>\n",
       "      <td>деревня кудрово</td>\n",
       "      <td>92884.921478</td>\n",
       "    </tr>\n",
       "    <tr>\n",
       "      <td>посёлок парголово</td>\n",
       "      <td>90195.369392</td>\n",
       "    </tr>\n",
       "    <tr>\n",
       "      <td>посёлок мурино</td>\n",
       "      <td>85598.623874</td>\n",
       "    </tr>\n",
       "    <tr>\n",
       "      <td>посёлок шушары</td>\n",
       "      <td>77935.470794</td>\n",
       "    </tr>\n",
       "    <tr>\n",
       "      <td>колпино</td>\n",
       "      <td>75132.150066</td>\n",
       "    </tr>\n",
       "    <tr>\n",
       "      <td>гатчина</td>\n",
       "      <td>68122.237464</td>\n",
       "    </tr>\n",
       "    <tr>\n",
       "      <td>всеволожск</td>\n",
       "      <td>67083.277560</td>\n",
       "    </tr>\n",
       "    <tr>\n",
       "      <td>выборг</td>\n",
       "      <td>56962.931666</td>\n",
       "    </tr>\n",
       "  </tbody>\n",
       "</table>\n",
       "</div>"
      ],
      "text/plain": [
       "                     metre_price\n",
       "locality_name                   \n",
       "санкт-петербург    103832.787735\n",
       "пушкин              99536.389413\n",
       "деревня кудрово     92884.921478\n",
       "посёлок парголово   90195.369392\n",
       "посёлок мурино      85598.623874\n",
       "посёлок шушары      77935.470794\n",
       "колпино             75132.150066\n",
       "гатчина             68122.237464\n",
       "всеволожск          67083.277560\n",
       "выборг              56962.931666"
      ]
     },
     "execution_count": 83,
     "metadata": {},
     "output_type": "execute_result"
    }
   ],
   "source": [
    "df1.query('locality_name in @top_cities.index').pivot_table(index='locality_name', values='metre_price').sort_values(by='metre_price', ascending=False)"
   ]
  },
  {
   "cell_type": "markdown",
   "metadata": {},
   "source": [
    "<font color='blue'> Населенные пункты выделены верно.</font>"
   ]
  },
  {
   "cell_type": "markdown",
   "metadata": {},
   "source": [
    "#### Выделим населённые пункты с самой высокой стоимостью жилья"
   ]
  },
  {
   "cell_type": "code",
   "execution_count": 85,
   "metadata": {},
   "outputs": [
    {
     "data": {
      "text/html": [
       "<div>\n",
       "<style scoped>\n",
       "    .dataframe tbody tr th:only-of-type {\n",
       "        vertical-align: middle;\n",
       "    }\n",
       "\n",
       "    .dataframe tbody tr th {\n",
       "        vertical-align: top;\n",
       "    }\n",
       "\n",
       "    .dataframe thead th {\n",
       "        text-align: right;\n",
       "    }\n",
       "</style>\n",
       "<table border=\"1\" class=\"dataframe\">\n",
       "  <thead>\n",
       "    <tr style=\"text-align: right;\">\n",
       "      <th></th>\n",
       "      <th>last_price_mln</th>\n",
       "    </tr>\n",
       "    <tr>\n",
       "      <th>locality_name</th>\n",
       "      <th></th>\n",
       "    </tr>\n",
       "  </thead>\n",
       "  <tbody>\n",
       "    <tr>\n",
       "      <td>посёлок лисий нос</td>\n",
       "      <td>7.305000</td>\n",
       "    </tr>\n",
       "    <tr>\n",
       "      <td>деревня юкки</td>\n",
       "      <td>5.725000</td>\n",
       "    </tr>\n",
       "    <tr>\n",
       "      <td>сестрорецк</td>\n",
       "      <td>5.311734</td>\n",
       "    </tr>\n",
       "    <tr>\n",
       "      <td>санкт-петербург</td>\n",
       "      <td>5.287154</td>\n",
       "    </tr>\n",
       "    <tr>\n",
       "      <td>пушкин</td>\n",
       "      <td>5.070763</td>\n",
       "    </tr>\n",
       "    <tr>\n",
       "      <td>неизвестный населенный пункт</td>\n",
       "      <td>5.068363</td>\n",
       "    </tr>\n",
       "    <tr>\n",
       "      <td>посёлок репино</td>\n",
       "      <td>4.800000</td>\n",
       "    </tr>\n",
       "    <tr>\n",
       "      <td>городской посёлок рощино</td>\n",
       "      <td>4.780000</td>\n",
       "    </tr>\n",
       "    <tr>\n",
       "      <td>зеленогорск</td>\n",
       "      <td>4.668200</td>\n",
       "    </tr>\n",
       "    <tr>\n",
       "      <td>кудрово</td>\n",
       "      <td>4.421161</td>\n",
       "    </tr>\n",
       "  </tbody>\n",
       "</table>\n",
       "</div>"
      ],
      "text/plain": [
       "                              last_price_mln\n",
       "locality_name                               \n",
       "посёлок лисий нос                   7.305000\n",
       "деревня юкки                        5.725000\n",
       "сестрорецк                          5.311734\n",
       "санкт-петербург                     5.287154\n",
       "пушкин                              5.070763\n",
       "неизвестный населенный пункт        5.068363\n",
       "посёлок репино                      4.800000\n",
       "городской посёлок рощино            4.780000\n",
       "зеленогорск                         4.668200\n",
       "кудрово                             4.421161"
      ]
     },
     "execution_count": 85,
     "metadata": {},
     "output_type": "execute_result"
    }
   ],
   "source": [
    "expensive_cities_top10 = df1.pivot_table(index='locality_name', values='last_price_mln').sort_values(by='last_price_mln', ascending=False).head(10)\n",
    "expensive_cities_top10"
   ]
  },
  {
   "cell_type": "markdown",
   "metadata": {},
   "source": [
    "<font color='blue'> Хорошо.</font>"
   ]
  },
  {
   "cell_type": "markdown",
   "metadata": {},
   "source": [
    "#### Выделим населённые пункты с самой низкой стоимостью жилья"
   ]
  },
  {
   "cell_type": "code",
   "execution_count": 86,
   "metadata": {},
   "outputs": [
    {
     "data": {
      "text/html": [
       "<div>\n",
       "<style scoped>\n",
       "    .dataframe tbody tr th:only-of-type {\n",
       "        vertical-align: middle;\n",
       "    }\n",
       "\n",
       "    .dataframe tbody tr th {\n",
       "        vertical-align: top;\n",
       "    }\n",
       "\n",
       "    .dataframe thead th {\n",
       "        text-align: right;\n",
       "    }\n",
       "</style>\n",
       "<table border=\"1\" class=\"dataframe\">\n",
       "  <thead>\n",
       "    <tr style=\"text-align: right;\">\n",
       "      <th></th>\n",
       "      <th>last_price_mln</th>\n",
       "    </tr>\n",
       "    <tr>\n",
       "      <th>locality_name</th>\n",
       "      <th></th>\n",
       "    </tr>\n",
       "  </thead>\n",
       "  <tbody>\n",
       "    <tr>\n",
       "      <td>деревня вахнова кара</td>\n",
       "      <td>0.4500</td>\n",
       "    </tr>\n",
       "    <tr>\n",
       "      <td>деревня старополье</td>\n",
       "      <td>0.4600</td>\n",
       "    </tr>\n",
       "    <tr>\n",
       "      <td>деревня бор</td>\n",
       "      <td>0.5000</td>\n",
       "    </tr>\n",
       "    <tr>\n",
       "      <td>поселок совхозный</td>\n",
       "      <td>0.5175</td>\n",
       "    </tr>\n",
       "    <tr>\n",
       "      <td>посёлок станции свирь</td>\n",
       "      <td>0.5750</td>\n",
       "    </tr>\n",
       "    <tr>\n",
       "      <td>деревня выскатка</td>\n",
       "      <td>0.5850</td>\n",
       "    </tr>\n",
       "    <tr>\n",
       "      <td>деревня ям-тесово</td>\n",
       "      <td>0.6250</td>\n",
       "    </tr>\n",
       "    <tr>\n",
       "      <td>деревня фалилеево</td>\n",
       "      <td>0.6500</td>\n",
       "    </tr>\n",
       "    <tr>\n",
       "      <td>поселок цвылёво</td>\n",
       "      <td>0.6500</td>\n",
       "    </tr>\n",
       "    <tr>\n",
       "      <td>поселок серебрянский</td>\n",
       "      <td>0.7425</td>\n",
       "    </tr>\n",
       "  </tbody>\n",
       "</table>\n",
       "</div>"
      ],
      "text/plain": [
       "                       last_price_mln\n",
       "locality_name                        \n",
       "деревня вахнова кара           0.4500\n",
       "деревня старополье             0.4600\n",
       "деревня бор                    0.5000\n",
       "поселок совхозный              0.5175\n",
       "посёлок станции свирь          0.5750\n",
       "деревня выскатка               0.5850\n",
       "деревня ям-тесово              0.6250\n",
       "деревня фалилеево              0.6500\n",
       "поселок цвылёво                0.6500\n",
       "поселок серебрянский           0.7425"
      ]
     },
     "execution_count": 86,
     "metadata": {},
     "output_type": "execute_result"
    }
   ],
   "source": [
    "cheap_cities_top10 = df1.pivot_table(index='locality_name', values='last_price_mln').sort_values(by='last_price_mln', ascending=True).head(10)\n",
    "cheap_cities_top10"
   ]
  },
  {
   "cell_type": "markdown",
   "metadata": {},
   "source": [
    "<font color='blue'> Все верно.</font>"
   ]
  },
  {
   "cell_type": "markdown",
   "metadata": {},
   "source": [
    "#### Изучим предложения квартир: для каждой квартиры есть информация о расстоянии до центра. Выделим квартиры в Санкт-Петербурге (*'locality_name'*). Задача — выяснить, какая область входит в центр. \n"
   ]
  },
  {
   "cell_type": "code",
   "execution_count": 87,
   "metadata": {},
   "outputs": [],
   "source": [
    "#выделим из дата сета квартры в Санкт-Петербурге\n",
    "spb_df = df1.query('locality_name in (\"санкт-петербург\")')"
   ]
  },
  {
   "cell_type": "markdown",
   "metadata": {},
   "source": [
    "#### Создадим столбец с расстоянием до центра в километрах: округлите до целых значений."
   ]
  },
  {
   "cell_type": "code",
   "execution_count": 89,
   "metadata": {},
   "outputs": [],
   "source": [
    "pd.options.mode.chained_assignment = None\n",
    "spb_df['cityCenters_nearest_km'] = spb_df['cityCenters_nearest'] / 1000\n",
    "spb_df['cityCenters_nearest_km'] = round(spb_df['cityCenters_nearest_km']).astype('int')"
   ]
  },
  {
   "cell_type": "markdown",
   "metadata": {},
   "source": [
    "#### Посчитаем среднюю цену для каждого километра. Построим график: он должен показывать, как цена зависит от удалённости от центра."
   ]
  },
  {
   "cell_type": "code",
   "execution_count": 91,
   "metadata": {
    "scrolled": true
   },
   "outputs": [
    {
     "data": {
      "text/plain": [
       "(0, 30)"
      ]
     },
     "execution_count": 91,
     "metadata": {},
     "output_type": "execute_result"
    },
    {
     "data": {
      "image/png": "[encoded data removed]",
      "text/plain": [
       "<Figure size 432x288 with 1 Axes>"
      ]
     },
     "metadata": {
      "needs_background": "light"
     },
     "output_type": "display_data"
    }
   ],
   "source": [
    "price_on_distance = spb_df.pivot_table(index='cityCenters_nearest_km', values='last_price_mln')\n",
    "price_on_distance.plot(grid=True)\n",
    "plt.xlim(0,30)"
   ]
  },
  {
   "cell_type": "markdown",
   "metadata": {},
   "source": [
    "###### Вывод 6"
   ]
  },
  {
   "cell_type": "markdown",
   "metadata": {},
   "source": [
    "Начиная от 5 километров, цена начинает падать.  Центральной зоной можно считать область от 0 до 5 км"
   ]
  },
  {
   "cell_type": "markdown",
   "metadata": {},
   "source": [
    "<font color='blue'> Расстояние выбрано верно.</font>"
   ]
  },
  {
   "cell_type": "markdown",
   "metadata": {},
   "source": [
    "#### Выделим сегмент квартир в центре"
   ]
  },
  {
   "cell_type": "code",
   "execution_count": 92,
   "metadata": {},
   "outputs": [],
   "source": [
    "center_segment = spb_df.query('cityCenters_nearest_km <= 5')"
   ]
  },
  {
   "cell_type": "markdown",
   "metadata": {},
   "source": [
    "#### Проанализируем эту территорию и изучим следующие параметры: площадь, цена, число комнат, высота потолков. \n"
   ]
  },
  {
   "cell_type": "code",
   "execution_count": 94,
   "metadata": {},
   "outputs": [
    {
     "data": {
      "text/plain": [
       "total_area           AxesSubplot(0.125,0.536818;0.352273x0.343182)\n",
       "last_price_mln    AxesSubplot(0.547727,0.536818;0.352273x0.343182)\n",
       "rooms                   AxesSubplot(0.125,0.125;0.352273x0.343182)\n",
       "ceiling_height       AxesSubplot(0.547727,0.125;0.352273x0.343182)\n",
       "dtype: object"
      ]
     },
     "execution_count": 94,
     "metadata": {},
     "output_type": "execute_result"
    },
    {
     "data": {
      "image/png": "[encoded data removed]",
      "text/plain": [
       "<Figure size 864x720 with 4 Axes>"
      ]
     },
     "metadata": {
      "needs_background": "light"
     },
     "output_type": "display_data"
    }
   ],
   "source": [
    "columns = ['total_area', 'last_price_mln', 'rooms', 'ceiling_height']\n",
    "center_segment[columns].plot(kind='box', subplots=True,layout=(2,2), figsize=(12,10))"
   ]
  },
  {
   "cell_type": "markdown",
   "metadata": {},
   "source": [
    "#### Выделим факторы, которые влияют на стоимость квартиры (число комнат, этаж, удалённость от центра, дата размещения объявления). "
   ]
  },
  {
   "cell_type": "code",
   "execution_count": 95,
   "metadata": {},
   "outputs": [
    {
     "name": "stdout",
     "output_type": "stream",
     "text": [
      "Коэффициент корреляции поля rooms cо стоимостью квартиры в центре = 0.44\n",
      "Коэффициент корреляции поля floor cо стоимостью квартиры в центре = 0.13\n",
      "Коэффициент корреляции поля cityCenters_nearest_km cо стоимостью квартиры в центре = 0.04\n",
      "-------------------------------------------------------------------------------\n",
      "Коэффициент корреляции поля rooms cо стоимостью квартиры НЕ в вцентре = 0.47\n",
      "Коэффициент корреляции поля floor cо стоимостью квартиры НЕ в вцентре = 0.17\n",
      "Коэффициент корреляции поля cityCenters_nearest_km cо стоимостью квартиры НЕ в вцентре = -0.17\n"
     ]
    }
   ],
   "source": [
    "cols = ['rooms', 'floor', 'cityCenters_nearest_km']\n",
    "not_center_segment = spb_df.query('cityCenters_nearest_km > 5')\n",
    "\n",
    "for i in cols:\n",
    "    print('Коэффициент корреляции поля', i, 'cо стоимостью квартиры в центре = {:.2f}'.format(center_segment[i].corr(center_segment['last_price_mln'])))\n",
    "print('-------------------------------------------------------------------------------')\n",
    "for i in cols:\n",
    "    print('Коэффициент корреляции поля', i, 'cо стоимостью квартиры НЕ в вцентре = {:.2f}'.format(not_center_segment[i].corr(not_center_segment['last_price_mln'])))"
   ]
  },
  {
   "cell_type": "code",
   "execution_count": 97,
   "metadata": {},
   "outputs": [
    {
     "data": {
      "image/png": "[encoded data removed]",
      "text/plain": [
       "<Figure size 864x432 with 1 Axes>"
      ]
     },
     "metadata": {
      "needs_background": "light"
     },
     "output_type": "display_data"
    },
    {
     "data": {
      "image/png": "[encoded data removed]",
      "text/plain": [
       "<Figure size 864x432 with 1 Axes>"
      ]
     },
     "metadata": {
      "needs_background": "light"
     },
     "output_type": "display_data"
    },
    {
     "data": {
      "image/png": "[encoded data removed]",
      "text/plain": [
       "<Figure size 864x432 with 1 Axes>"
      ]
     },
     "metadata": {
      "needs_background": "light"
     },
     "output_type": "display_data"
    }
   ],
   "source": [
    "#сравнение цены в не централном и центральном сегменте в зависимости от времени размещения\n",
    "time = ['exposition_year', 'exposition_month', 'exposition_weekday']\n",
    "for i in time:\n",
    "    pp = (not_center_segment\n",
    "        .pivot_table(index=i, values='last_price_mln', aggfunc='mean')\n",
    "        .plot(alpha=0.7, legend=True))\n",
    "    (center_segment\n",
    "        .pivot_table(index=i, values='last_price_mln', aggfunc='mean')\n",
    "        .plot(ax=pp, label='В центре', alpha=0.7, figsize=(12,6), grid=True, legend=True))"
   ]
  },
  {
   "cell_type": "markdown",
   "metadata": {},
   "source": [
    "##### Вывод 7"
   ]
  },
  {
   "cell_type": "markdown",
   "metadata": {},
   "source": [
    "В отличие от остального города, площадь квартир в центре в среднем на 10 кв. метров больше: 50 кв.м против 60кв. м в центре.\n",
    "Цены в среднем в полтора раза выше, 4.5млн против 7млн в центре, при одинковом количестве комнат.\n",
    "Количество комнат является основным фактором при оценке стоимости, в центральном и не центральном районах. Коэффициент корреляции поля rooms cо стоимостью квартиры в центре и не в центре, примерно равны 0.4. Этаж не играет особой роли в определении стоимости (корреляция 0.1).\n",
    "\n",
    "Рынок неджвижимости в центре более чувствителен к сезонным трендам – видно что рыжая линия (центральный сегмент) резко реагирует, в то время как синия линия (недвижимость не в центре) более стабильна и не имеет резких перепадов.\n"
   ]
  },
  {
   "cell_type": "markdown",
   "metadata": {},
   "source": [
    "<font color='blue'> Анализ центра проделан хорошо.</font>"
   ]
  },
  {
   "cell_type": "markdown",
   "metadata": {},
   "source": [
    "### Шаг 5. Общий вывод"
   ]
  },
  {
   "cell_type": "markdown",
   "metadata": {},
   "source": [
    "Была проделана большая работа. Сначала предобработали данные: заполнили пропуски, добавили новые столбцы. Применили разные методы для построения графиков и описания данных. Далее сделали анализ и узнали что, на рыночную стоимость недвижимости влияют такие параметры как:\n",
    "1. Общая площать квартиры (чем больше, чем дороже)\n",
    "2. Количество комнат (чем больше, чем дороже)\n",
    "3. Цены в области 5ти км. от центра в полтора раза выше и при этом больше подвержены колебаниям\n",
    "4. Цены на жильё за центром примерно одинаковые и не сильно изменяются с течением времени\n",
    "5. Рынок, в целом, очень подвержен сезонности – со спадом к середине года и ростом ближе к концу\n",
    "6. Этаж квартиры почти не влияет на стоимость жилья\n",
    "\n",
    "\n"
   ]
  },
  {
   "cell_type": "markdown",
   "metadata": {},
   "source": [
    "<font color='blue'> Проект выполнен отлично, молодец. Все верно, все четко и ярко. Удачи в следующем проекте.</font>"
   ]
  },
  {
   "cell_type": "code",
   "execution_count": null,
   "metadata": {},
   "outputs": [],
   "source": []
  }
 ],
 "metadata": {
  "kernelspec": {
   "display_name": "Python 3",
   "language": "python",
   "name": "python3"
  },
  "language_info": {
   "codemirror_mode": {
    "name": "ipython",
    "version": 3
   },
   "file_extension": ".py",
   "mimetype": "text/x-python",
   "name": "python",
   "nbconvert_exporter": "python",
   "pygments_lexer": "ipython3",
   "version": "3.7.3"
  }
 },
 "nbformat": 4,
 "nbformat_minor": 2
}
